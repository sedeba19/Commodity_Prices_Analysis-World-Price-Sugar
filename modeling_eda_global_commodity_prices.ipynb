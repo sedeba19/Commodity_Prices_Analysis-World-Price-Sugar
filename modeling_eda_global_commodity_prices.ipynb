{
 "cells": [
  {
   "cell_type": "markdown",
   "metadata": {},
   "source": [
    "Modeling\n"
   ]
  },
  {
   "cell_type": "code",
   "execution_count": 1,
   "metadata": {},
   "outputs": [],
   "source": [
    "import pandas as pd\n",
    "import numpy as np\n",
    "import matplotlib as plt\n",
    "from sklearn.linear_model import LinearRegression\n",
    "from sklearn.ensemble import RandomForestRegressor\n",
    "from sklearn.svm import SVR\n",
    "from sklearn.preprocessing import StandardScaler\n",
    "from sklearn.ensemble import GradientBoostingRegressor"
   ]
  },
  {
   "cell_type": "code",
   "execution_count": 2,
   "metadata": {},
   "outputs": [],
   "source": [
    "file_dir = './global_commodity_prices/commodity_prices.csv'"
   ]
  },
  {
   "cell_type": "code",
   "execution_count": 3,
   "metadata": {},
   "outputs": [
    {
     "data": {
      "text/html": [
       "<div>\n",
       "<style scoped>\n",
       "    .dataframe tbody tr th:only-of-type {\n",
       "        vertical-align: middle;\n",
       "    }\n",
       "\n",
       "    .dataframe tbody tr th {\n",
       "        vertical-align: top;\n",
       "    }\n",
       "\n",
       "    .dataframe thead th {\n",
       "        text-align: right;\n",
       "    }\n",
       "</style>\n",
       "<table border=\"1\" class=\"dataframe\">\n",
       "  <thead>\n",
       "    <tr style=\"text-align: right;\">\n",
       "      <th></th>\n",
       "      <th>Unnamed: 0</th>\n",
       "      <th>date</th>\n",
       "      <th>oil_brent</th>\n",
       "      <th>oil_dubai</th>\n",
       "      <th>coffee_arabica</th>\n",
       "      <th>coffee_robustas</th>\n",
       "      <th>tea_columbo</th>\n",
       "      <th>tea_kolkata</th>\n",
       "      <th>tea_mombasa</th>\n",
       "      <th>sugar_eu</th>\n",
       "      <th>sugar_us</th>\n",
       "      <th>sugar_world</th>\n",
       "    </tr>\n",
       "  </thead>\n",
       "  <tbody>\n",
       "    <tr>\n",
       "      <th>0</th>\n",
       "      <td>1</td>\n",
       "      <td>1960-01-01</td>\n",
       "      <td>1.63</td>\n",
       "      <td>1.63</td>\n",
       "      <td>0.9409</td>\n",
       "      <td>0.696864</td>\n",
       "      <td>0.930301</td>\n",
       "      <td>1.121401</td>\n",
       "      <td>1.0374</td>\n",
       "      <td>0.122356</td>\n",
       "      <td>0.116845</td>\n",
       "      <td>0.0666</td>\n",
       "    </tr>\n",
       "    <tr>\n",
       "      <th>1</th>\n",
       "      <td>2</td>\n",
       "      <td>1960-02-01</td>\n",
       "      <td>1.63</td>\n",
       "      <td>1.63</td>\n",
       "      <td>0.9469</td>\n",
       "      <td>0.688707</td>\n",
       "      <td>0.930301</td>\n",
       "      <td>1.121401</td>\n",
       "      <td>1.0374</td>\n",
       "      <td>0.122356</td>\n",
       "      <td>0.119049</td>\n",
       "      <td>0.0679</td>\n",
       "    </tr>\n",
       "    <tr>\n",
       "      <th>2</th>\n",
       "      <td>3</td>\n",
       "      <td>1960-03-01</td>\n",
       "      <td>1.63</td>\n",
       "      <td>1.63</td>\n",
       "      <td>0.9281</td>\n",
       "      <td>0.688707</td>\n",
       "      <td>0.930301</td>\n",
       "      <td>1.121401</td>\n",
       "      <td>1.0374</td>\n",
       "      <td>0.122356</td>\n",
       "      <td>0.121254</td>\n",
       "      <td>0.0683</td>\n",
       "    </tr>\n",
       "    <tr>\n",
       "      <th>3</th>\n",
       "      <td>4</td>\n",
       "      <td>1960-04-01</td>\n",
       "      <td>1.63</td>\n",
       "      <td>1.63</td>\n",
       "      <td>0.9303</td>\n",
       "      <td>0.684519</td>\n",
       "      <td>0.930301</td>\n",
       "      <td>1.121401</td>\n",
       "      <td>1.0374</td>\n",
       "      <td>0.122356</td>\n",
       "      <td>0.123459</td>\n",
       "      <td>0.0681</td>\n",
       "    </tr>\n",
       "    <tr>\n",
       "      <th>4</th>\n",
       "      <td>5</td>\n",
       "      <td>1960-05-01</td>\n",
       "      <td>1.63</td>\n",
       "      <td>1.63</td>\n",
       "      <td>0.9200</td>\n",
       "      <td>0.690692</td>\n",
       "      <td>0.930301</td>\n",
       "      <td>1.121401</td>\n",
       "      <td>1.0374</td>\n",
       "      <td>0.122356</td>\n",
       "      <td>0.121254</td>\n",
       "      <td>0.0683</td>\n",
       "    </tr>\n",
       "  </tbody>\n",
       "</table>\n",
       "</div>"
      ],
      "text/plain": [
       "   Unnamed: 0        date  oil_brent  oil_dubai  coffee_arabica  \\\n",
       "0           1  1960-01-01       1.63       1.63          0.9409   \n",
       "1           2  1960-02-01       1.63       1.63          0.9469   \n",
       "2           3  1960-03-01       1.63       1.63          0.9281   \n",
       "3           4  1960-04-01       1.63       1.63          0.9303   \n",
       "4           5  1960-05-01       1.63       1.63          0.9200   \n",
       "\n",
       "   coffee_robustas  tea_columbo  tea_kolkata  tea_mombasa  sugar_eu  sugar_us  \\\n",
       "0         0.696864     0.930301     1.121401       1.0374  0.122356  0.116845   \n",
       "1         0.688707     0.930301     1.121401       1.0374  0.122356  0.119049   \n",
       "2         0.688707     0.930301     1.121401       1.0374  0.122356  0.121254   \n",
       "3         0.684519     0.930301     1.121401       1.0374  0.122356  0.123459   \n",
       "4         0.690692     0.930301     1.121401       1.0374  0.122356  0.121254   \n",
       "\n",
       "   sugar_world  \n",
       "0       0.0666  \n",
       "1       0.0679  \n",
       "2       0.0683  \n",
       "3       0.0681  \n",
       "4       0.0683  "
      ]
     },
     "execution_count": 3,
     "metadata": {},
     "output_type": "execute_result"
    }
   ],
   "source": [
    "df = pd.read_csv(file_dir)\n",
    "df.head()"
   ]
  },
  {
   "cell_type": "code",
   "execution_count": 4,
   "metadata": {},
   "outputs": [
    {
     "data": {
      "text/html": [
       "<div>\n",
       "<style scoped>\n",
       "    .dataframe tbody tr th:only-of-type {\n",
       "        vertical-align: middle;\n",
       "    }\n",
       "\n",
       "    .dataframe tbody tr th {\n",
       "        vertical-align: top;\n",
       "    }\n",
       "\n",
       "    .dataframe thead th {\n",
       "        text-align: right;\n",
       "    }\n",
       "</style>\n",
       "<table border=\"1\" class=\"dataframe\">\n",
       "  <thead>\n",
       "    <tr style=\"text-align: right;\">\n",
       "      <th></th>\n",
       "      <th>date</th>\n",
       "      <th>sugar_world</th>\n",
       "    </tr>\n",
       "  </thead>\n",
       "  <tbody>\n",
       "    <tr>\n",
       "      <th>0</th>\n",
       "      <td>1960-01-01</td>\n",
       "      <td>0.0666</td>\n",
       "    </tr>\n",
       "    <tr>\n",
       "      <th>1</th>\n",
       "      <td>1960-02-01</td>\n",
       "      <td>0.0679</td>\n",
       "    </tr>\n",
       "    <tr>\n",
       "      <th>2</th>\n",
       "      <td>1960-03-01</td>\n",
       "      <td>0.0683</td>\n",
       "    </tr>\n",
       "    <tr>\n",
       "      <th>3</th>\n",
       "      <td>1960-04-01</td>\n",
       "      <td>0.0681</td>\n",
       "    </tr>\n",
       "    <tr>\n",
       "      <th>4</th>\n",
       "      <td>1960-05-01</td>\n",
       "      <td>0.0683</td>\n",
       "    </tr>\n",
       "  </tbody>\n",
       "</table>\n",
       "</div>"
      ],
      "text/plain": [
       "        date  sugar_world\n",
       "0 1960-01-01       0.0666\n",
       "1 1960-02-01       0.0679\n",
       "2 1960-03-01       0.0683\n",
       "3 1960-04-01       0.0681\n",
       "4 1960-05-01       0.0683"
      ]
     },
     "execution_count": 4,
     "metadata": {},
     "output_type": "execute_result"
    }
   ],
   "source": [
    "# We are only interested to `sugar_world` column.\n",
    "# Load data into dataframe\n",
    "df = pd.read_csv(file_dir)\n",
    "df.drop(['Unnamed: 0', 'oil_brent', 'oil_dubai', 'coffee_arabica',\n",
    "       'coffee_robustas', 'tea_columbo', 'tea_kolkata', 'tea_mombasa',\n",
    "       'sugar_eu', 'sugar_us'], axis = 1, inplace = True)\n",
    "# Convert 'date' column to datetime object\n",
    "df['date'] = pd.to_datetime(df['date'])\n",
    "df.head()"
   ]
  },
  {
   "cell_type": "code",
   "execution_count": 5,
   "metadata": {},
   "outputs": [
    {
     "data": {
      "text/html": [
       "<div>\n",
       "<style scoped>\n",
       "    .dataframe tbody tr th:only-of-type {\n",
       "        vertical-align: middle;\n",
       "    }\n",
       "\n",
       "    .dataframe tbody tr th {\n",
       "        vertical-align: top;\n",
       "    }\n",
       "\n",
       "    .dataframe thead th {\n",
       "        text-align: right;\n",
       "    }\n",
       "</style>\n",
       "<table border=\"1\" class=\"dataframe\">\n",
       "  <thead>\n",
       "    <tr style=\"text-align: right;\">\n",
       "      <th></th>\n",
       "      <th>date</th>\n",
       "      <th>sugar_world</th>\n",
       "      <th>month</th>\n",
       "      <th>day</th>\n",
       "      <th>weekday</th>\n",
       "      <th>year</th>\n",
       "      <th>is_weekend</th>\n",
       "      <th>is_weekday</th>\n",
       "    </tr>\n",
       "  </thead>\n",
       "  <tbody>\n",
       "    <tr>\n",
       "      <th>0</th>\n",
       "      <td>1960-01-01</td>\n",
       "      <td>0.0666</td>\n",
       "      <td>1</td>\n",
       "      <td>1</td>\n",
       "      <td>4</td>\n",
       "      <td>1960</td>\n",
       "      <td>0</td>\n",
       "      <td>1</td>\n",
       "    </tr>\n",
       "    <tr>\n",
       "      <th>1</th>\n",
       "      <td>1960-02-01</td>\n",
       "      <td>0.0679</td>\n",
       "      <td>2</td>\n",
       "      <td>1</td>\n",
       "      <td>0</td>\n",
       "      <td>1960</td>\n",
       "      <td>0</td>\n",
       "      <td>1</td>\n",
       "    </tr>\n",
       "    <tr>\n",
       "      <th>2</th>\n",
       "      <td>1960-03-01</td>\n",
       "      <td>0.0683</td>\n",
       "      <td>3</td>\n",
       "      <td>1</td>\n",
       "      <td>1</td>\n",
       "      <td>1960</td>\n",
       "      <td>0</td>\n",
       "      <td>1</td>\n",
       "    </tr>\n",
       "    <tr>\n",
       "      <th>3</th>\n",
       "      <td>1960-04-01</td>\n",
       "      <td>0.0681</td>\n",
       "      <td>4</td>\n",
       "      <td>1</td>\n",
       "      <td>4</td>\n",
       "      <td>1960</td>\n",
       "      <td>0</td>\n",
       "      <td>1</td>\n",
       "    </tr>\n",
       "    <tr>\n",
       "      <th>4</th>\n",
       "      <td>1960-05-01</td>\n",
       "      <td>0.0683</td>\n",
       "      <td>5</td>\n",
       "      <td>1</td>\n",
       "      <td>6</td>\n",
       "      <td>1960</td>\n",
       "      <td>1</td>\n",
       "      <td>0</td>\n",
       "    </tr>\n",
       "  </tbody>\n",
       "</table>\n",
       "</div>"
      ],
      "text/plain": [
       "        date  sugar_world  month  day  weekday  year  is_weekend  is_weekday\n",
       "0 1960-01-01       0.0666      1    1        4  1960           0           1\n",
       "1 1960-02-01       0.0679      2    1        0  1960           0           1\n",
       "2 1960-03-01       0.0683      3    1        1  1960           0           1\n",
       "3 1960-04-01       0.0681      4    1        4  1960           0           1\n",
       "4 1960-05-01       0.0683      5    1        6  1960           1           0"
      ]
     },
     "execution_count": 5,
     "metadata": {},
     "output_type": "execute_result"
    }
   ],
   "source": [
    "# Add 'month' column\n",
    "df['month'] = df['date'].dt.month\n",
    "df['day'] = df['date'].dt.day\n",
    "df['weekday'] = df['date'].dt.weekday # returns the day of the week as an integer, where Monday is 0 and Sunday is 6\n",
    "df['year'] = df['date'].dt.year\n",
    "# Add column for weekend and weekday\n",
    "df['is_weekend'] = (df['date'].dt.weekday >= 5).astype(int)\n",
    "df['is_weekday'] = ((df['date'].dt.weekday >= 0) & (df['date'].dt.weekday <= 4)).astype(int)\n",
    "\n",
    "# Display dataframe with new column\n",
    "df.head()"
   ]
  },
  {
   "cell_type": "code",
   "execution_count": 6,
   "metadata": {},
   "outputs": [
    {
     "data": {
      "text/html": [
       "<div>\n",
       "<style scoped>\n",
       "    .dataframe tbody tr th:only-of-type {\n",
       "        vertical-align: middle;\n",
       "    }\n",
       "\n",
       "    .dataframe tbody tr th {\n",
       "        vertical-align: top;\n",
       "    }\n",
       "\n",
       "    .dataframe thead th {\n",
       "        text-align: right;\n",
       "    }\n",
       "</style>\n",
       "<table border=\"1\" class=\"dataframe\">\n",
       "  <thead>\n",
       "    <tr style=\"text-align: right;\">\n",
       "      <th></th>\n",
       "      <th>sugar_world</th>\n",
       "      <th>month</th>\n",
       "      <th>day</th>\n",
       "      <th>weekday</th>\n",
       "      <th>year</th>\n",
       "      <th>is_weekend</th>\n",
       "      <th>is_weekday</th>\n",
       "    </tr>\n",
       "  </thead>\n",
       "  <tbody>\n",
       "    <tr>\n",
       "      <th>0</th>\n",
       "      <td>0.0666</td>\n",
       "      <td>1</td>\n",
       "      <td>1</td>\n",
       "      <td>4</td>\n",
       "      <td>1960</td>\n",
       "      <td>0</td>\n",
       "      <td>1</td>\n",
       "    </tr>\n",
       "    <tr>\n",
       "      <th>1</th>\n",
       "      <td>0.0679</td>\n",
       "      <td>2</td>\n",
       "      <td>1</td>\n",
       "      <td>0</td>\n",
       "      <td>1960</td>\n",
       "      <td>0</td>\n",
       "      <td>1</td>\n",
       "    </tr>\n",
       "    <tr>\n",
       "      <th>2</th>\n",
       "      <td>0.0683</td>\n",
       "      <td>3</td>\n",
       "      <td>1</td>\n",
       "      <td>1</td>\n",
       "      <td>1960</td>\n",
       "      <td>0</td>\n",
       "      <td>1</td>\n",
       "    </tr>\n",
       "    <tr>\n",
       "      <th>3</th>\n",
       "      <td>0.0681</td>\n",
       "      <td>4</td>\n",
       "      <td>1</td>\n",
       "      <td>4</td>\n",
       "      <td>1960</td>\n",
       "      <td>0</td>\n",
       "      <td>1</td>\n",
       "    </tr>\n",
       "    <tr>\n",
       "      <th>4</th>\n",
       "      <td>0.0683</td>\n",
       "      <td>5</td>\n",
       "      <td>1</td>\n",
       "      <td>6</td>\n",
       "      <td>1960</td>\n",
       "      <td>1</td>\n",
       "      <td>0</td>\n",
       "    </tr>\n",
       "  </tbody>\n",
       "</table>\n",
       "</div>"
      ],
      "text/plain": [
       "   sugar_world  month  day  weekday  year  is_weekend  is_weekday\n",
       "0       0.0666      1    1        4  1960           0           1\n",
       "1       0.0679      2    1        0  1960           0           1\n",
       "2       0.0683      3    1        1  1960           0           1\n",
       "3       0.0681      4    1        4  1960           0           1\n",
       "4       0.0683      5    1        6  1960           1           0"
      ]
     },
     "execution_count": 6,
     "metadata": {},
     "output_type": "execute_result"
    }
   ],
   "source": [
    "df.drop('date', axis = 1, inplace = True)\n",
    "df.head()"
   ]
  },
  {
   "cell_type": "code",
   "execution_count": 7,
   "metadata": {},
   "outputs": [],
   "source": [
    "# Make a new subset quarterly\n",
    "df_sugar_quarterly = df.copy()\n",
    "\n",
    "# Initialize the 'qrtr' column with zeros\n",
    "df_sugar_quarterly['price_quarterly'] = 0\n",
    "\n",
    "# Define the range and step size\n",
    "start = 0\n",
    "end = len(df_sugar_quarterly)\n",
    "step = 3\n",
    "\n",
    "# Loop through the specified range with the given step size\n",
    "for i in range(start, end, step):\n",
    "    current_range = (i, i+2)\n",
    "    mean_qrtr = df_sugar_quarterly['sugar_world'][current_range[0]:current_range[1]+1].mean()\n",
    "    df_sugar_quarterly.loc[current_range[0]:current_range[1], 'price_quarterly'] = mean_qrtr"
   ]
  },
  {
   "cell_type": "code",
   "execution_count": 8,
   "metadata": {},
   "outputs": [
    {
     "data": {
      "text/plain": [
       "Index(['sugar_world', 'month', 'day', 'weekday', 'year', 'is_weekend',\n",
       "       'is_weekday', 'price_quarterly'],\n",
       "      dtype='object')"
      ]
     },
     "execution_count": 8,
     "metadata": {},
     "output_type": "execute_result"
    }
   ],
   "source": [
    "df_sugar_quarterly.columns"
   ]
  },
  {
   "cell_type": "code",
   "execution_count": 9,
   "metadata": {},
   "outputs": [
    {
     "data": {
      "text/html": [
       "<div>\n",
       "<style scoped>\n",
       "    .dataframe tbody tr th:only-of-type {\n",
       "        vertical-align: middle;\n",
       "    }\n",
       "\n",
       "    .dataframe tbody tr th {\n",
       "        vertical-align: top;\n",
       "    }\n",
       "\n",
       "    .dataframe thead th {\n",
       "        text-align: right;\n",
       "    }\n",
       "</style>\n",
       "<table border=\"1\" class=\"dataframe\">\n",
       "  <thead>\n",
       "    <tr style=\"text-align: right;\">\n",
       "      <th></th>\n",
       "      <th>year</th>\n",
       "      <th>price_quarterly</th>\n",
       "    </tr>\n",
       "  </thead>\n",
       "  <tbody>\n",
       "    <tr>\n",
       "      <th>744</th>\n",
       "      <td>2022</td>\n",
       "      <td>0.405136</td>\n",
       "    </tr>\n",
       "    <tr>\n",
       "      <th>745</th>\n",
       "      <td>2022</td>\n",
       "      <td>0.405136</td>\n",
       "    </tr>\n",
       "    <tr>\n",
       "      <th>746</th>\n",
       "      <td>2022</td>\n",
       "      <td>0.405136</td>\n",
       "    </tr>\n",
       "    <tr>\n",
       "      <th>747</th>\n",
       "      <td>2022</td>\n",
       "      <td>0.426667</td>\n",
       "    </tr>\n",
       "    <tr>\n",
       "      <th>748</th>\n",
       "      <td>2022</td>\n",
       "      <td>0.426667</td>\n",
       "    </tr>\n",
       "    <tr>\n",
       "      <th>749</th>\n",
       "      <td>2022</td>\n",
       "      <td>0.426667</td>\n",
       "    </tr>\n",
       "    <tr>\n",
       "      <th>750</th>\n",
       "      <td>2022</td>\n",
       "      <td>0.395656</td>\n",
       "    </tr>\n",
       "    <tr>\n",
       "      <th>751</th>\n",
       "      <td>2022</td>\n",
       "      <td>0.395656</td>\n",
       "    </tr>\n",
       "    <tr>\n",
       "      <th>752</th>\n",
       "      <td>2022</td>\n",
       "      <td>0.395656</td>\n",
       "    </tr>\n",
       "    <tr>\n",
       "      <th>753</th>\n",
       "      <td>2022</td>\n",
       "      <td>0.403886</td>\n",
       "    </tr>\n",
       "    <tr>\n",
       "      <th>754</th>\n",
       "      <td>2022</td>\n",
       "      <td>0.403886</td>\n",
       "    </tr>\n",
       "    <tr>\n",
       "      <th>755</th>\n",
       "      <td>2022</td>\n",
       "      <td>0.403886</td>\n",
       "    </tr>\n",
       "  </tbody>\n",
       "</table>\n",
       "</div>"
      ],
      "text/plain": [
       "     year  price_quarterly\n",
       "744  2022         0.405136\n",
       "745  2022         0.405136\n",
       "746  2022         0.405136\n",
       "747  2022         0.426667\n",
       "748  2022         0.426667\n",
       "749  2022         0.426667\n",
       "750  2022         0.395656\n",
       "751  2022         0.395656\n",
       "752  2022         0.395656\n",
       "753  2022         0.403886\n",
       "754  2022         0.403886\n",
       "755  2022         0.403886"
      ]
     },
     "execution_count": 9,
     "metadata": {},
     "output_type": "execute_result"
    }
   ],
   "source": [
    "df_sugar_quarterly = df_sugar_quarterly[['year', 'price_quarterly']]\n",
    "df_sugar_quarterly[-12:]"
   ]
  },
  {
   "cell_type": "code",
   "execution_count": 10,
   "metadata": {},
   "outputs": [
    {
     "data": {
      "image/png": "[encoded data removed]",
      "text/plain": [
       "<Figure size 640x480 with 1 Axes>"
      ]
     },
     "metadata": {},
     "output_type": "display_data"
    }
   ],
   "source": [
    "df_sugar_quarterly.plot(kind='scatter', x='year', y='price_quarterly');"
   ]
  },
  {
   "cell_type": "markdown",
   "metadata": {},
   "source": [
    "When it comes to predicting prices, especially in a time-series context like sugar prices, you should consider using regression models. Regression models are a type of supervised machine learning algorithm that is suitable for predicting continuous numeric values, such as prices. In the case of time-series data, you might also want to consider time-series specific models.\n",
    "\n",
    "* Linear Regression\n",
    "* Decision Trees and Random Forest\n",
    "* Support Vector Regression (SVR)\n",
    "* Gradient Boosting Regressor"
   ]
  },
  {
   "cell_type": "markdown",
   "metadata": {},
   "source": [
    "Data Preprocessing"
   ]
  },
  {
   "cell_type": "code",
   "execution_count": 11,
   "metadata": {},
   "outputs": [
    {
     "data": {
      "text/html": [
       "<div>\n",
       "<style scoped>\n",
       "    .dataframe tbody tr th:only-of-type {\n",
       "        vertical-align: middle;\n",
       "    }\n",
       "\n",
       "    .dataframe tbody tr th {\n",
       "        vertical-align: top;\n",
       "    }\n",
       "\n",
       "    .dataframe thead th {\n",
       "        text-align: right;\n",
       "    }\n",
       "</style>\n",
       "<table border=\"1\" class=\"dataframe\">\n",
       "  <thead>\n",
       "    <tr style=\"text-align: right;\">\n",
       "      <th></th>\n",
       "      <th>year</th>\n",
       "      <th>price_quarterly</th>\n",
       "    </tr>\n",
       "  </thead>\n",
       "  <tbody>\n",
       "    <tr>\n",
       "      <th>0</th>\n",
       "      <td>1960</td>\n",
       "      <td>0.067600</td>\n",
       "    </tr>\n",
       "    <tr>\n",
       "      <th>1</th>\n",
       "      <td>1960</td>\n",
       "      <td>0.067600</td>\n",
       "    </tr>\n",
       "    <tr>\n",
       "      <th>2</th>\n",
       "      <td>1960</td>\n",
       "      <td>0.067600</td>\n",
       "    </tr>\n",
       "    <tr>\n",
       "      <th>3</th>\n",
       "      <td>1960</td>\n",
       "      <td>0.067667</td>\n",
       "    </tr>\n",
       "    <tr>\n",
       "      <th>4</th>\n",
       "      <td>1960</td>\n",
       "      <td>0.067667</td>\n",
       "    </tr>\n",
       "  </tbody>\n",
       "</table>\n",
       "</div>"
      ],
      "text/plain": [
       "   year  price_quarterly\n",
       "0  1960         0.067600\n",
       "1  1960         0.067600\n",
       "2  1960         0.067600\n",
       "3  1960         0.067667\n",
       "4  1960         0.067667"
      ]
     },
     "execution_count": 11,
     "metadata": {},
     "output_type": "execute_result"
    }
   ],
   "source": [
    "df_sugar_quarterly.head()"
   ]
  },
  {
   "cell_type": "code",
   "execution_count": 12,
   "metadata": {},
   "outputs": [],
   "source": [
    "x = df_sugar_quarterly['year']\n",
    "y = df_sugar_quarterly['price_quarterly']"
   ]
  },
  {
   "cell_type": "code",
   "execution_count": 13,
   "metadata": {},
   "outputs": [
    {
     "data": {
      "text/plain": [
       "(756, 756)"
      ]
     },
     "execution_count": 13,
     "metadata": {},
     "output_type": "execute_result"
    }
   ],
   "source": [
    "len(x), len(y)"
   ]
  },
  {
   "cell_type": "code",
   "execution_count": 14,
   "metadata": {},
   "outputs": [],
   "source": [
    "# Reshape Series Values\n",
    "X = x.values.reshape(-1, 1)"
   ]
  },
  {
   "cell_type": "code",
   "execution_count": 15,
   "metadata": {},
   "outputs": [],
   "source": [
    "# Assuming df is your time series DataFrame\n",
    "split_size = int(len(df)* 0.8)\n",
    "\n",
    "X_train = X[:split_size]\n",
    "y_train = y[:split_size]\n",
    "\n",
    "X_test =  X[split_size:]\n",
    "y_test = y[split_size:]"
   ]
  },
  {
   "cell_type": "code",
   "execution_count": 16,
   "metadata": {},
   "outputs": [
    {
     "data": {
      "text/plain": [
       "(604, 604, 152, 152)"
      ]
     },
     "execution_count": 16,
     "metadata": {},
     "output_type": "execute_result"
    }
   ],
   "source": [
    "len(X_train), len(y_train), len(X_test), len(y_test)"
   ]
  },
  {
   "cell_type": "markdown",
   "metadata": {},
   "source": [
    "Train a Model using Linear Regression and make predictions"
   ]
  },
  {
   "cell_type": "code",
   "execution_count": 17,
   "metadata": {},
   "outputs": [
    {
     "data": {
      "text/plain": [
       "array([0.27947303, 0.27947303, 0.27947303, 0.27947303, 0.27947303])"
      ]
     },
     "execution_count": 17,
     "metadata": {},
     "output_type": "execute_result"
    }
   ],
   "source": [
    "from sklearn.linear_model import LinearRegression\n",
    "from sklearn.metrics import mean_squared_error\n",
    "\n",
    "model = LinearRegression()\n",
    "model.fit(X_train, y_train)\n",
    "\n",
    "y_pred = model.predict(X_test)\n",
    "y_pred[:5]"
   ]
  },
  {
   "cell_type": "code",
   "execution_count": 18,
   "metadata": {},
   "outputs": [
    {
     "name": "stdout",
     "output_type": "stream",
     "text": [
      "Mean Squared Error: 0.0164\n"
     ]
    }
   ],
   "source": [
    "# Evaluate the Linear Regression Model\n",
    "mse_lr = mean_squared_error(y_test, y_pred)\n",
    "mse_lr = round(mse_lr, 4)\n",
    "print(f\"Mean Squared Error: {mse_lr}\")"
   ]
  },
  {
   "cell_type": "code",
   "execution_count": 19,
   "metadata": {},
   "outputs": [
    {
     "data": {
      "text/html": [
       "<div>\n",
       "<style scoped>\n",
       "    .dataframe tbody tr th:only-of-type {\n",
       "        vertical-align: middle;\n",
       "    }\n",
       "\n",
       "    .dataframe tbody tr th {\n",
       "        vertical-align: top;\n",
       "    }\n",
       "\n",
       "    .dataframe thead th {\n",
       "        text-align: right;\n",
       "    }\n",
       "</style>\n",
       "<table border=\"1\" class=\"dataframe\">\n",
       "  <thead>\n",
       "    <tr style=\"text-align: right;\">\n",
       "      <th></th>\n",
       "      <th>Actual</th>\n",
       "      <th>Predicted</th>\n",
       "    </tr>\n",
       "  </thead>\n",
       "  <tbody>\n",
       "    <tr>\n",
       "      <th>604</th>\n",
       "      <td>0.349285</td>\n",
       "      <td>0.279473</td>\n",
       "    </tr>\n",
       "    <tr>\n",
       "      <th>605</th>\n",
       "      <td>0.349285</td>\n",
       "      <td>0.279473</td>\n",
       "    </tr>\n",
       "    <tr>\n",
       "      <th>606</th>\n",
       "      <td>0.429754</td>\n",
       "      <td>0.279473</td>\n",
       "    </tr>\n",
       "    <tr>\n",
       "      <th>607</th>\n",
       "      <td>0.429754</td>\n",
       "      <td>0.279473</td>\n",
       "    </tr>\n",
       "    <tr>\n",
       "      <th>608</th>\n",
       "      <td>0.429754</td>\n",
       "      <td>0.279473</td>\n",
       "    </tr>\n",
       "    <tr>\n",
       "      <th>...</th>\n",
       "      <td>...</td>\n",
       "      <td>...</td>\n",
       "    </tr>\n",
       "    <tr>\n",
       "      <th>751</th>\n",
       "      <td>0.395656</td>\n",
       "      <td>0.314651</td>\n",
       "    </tr>\n",
       "    <tr>\n",
       "      <th>752</th>\n",
       "      <td>0.395656</td>\n",
       "      <td>0.314651</td>\n",
       "    </tr>\n",
       "    <tr>\n",
       "      <th>753</th>\n",
       "      <td>0.403886</td>\n",
       "      <td>0.314651</td>\n",
       "    </tr>\n",
       "    <tr>\n",
       "      <th>754</th>\n",
       "      <td>0.403886</td>\n",
       "      <td>0.314651</td>\n",
       "    </tr>\n",
       "    <tr>\n",
       "      <th>755</th>\n",
       "      <td>0.403886</td>\n",
       "      <td>0.314651</td>\n",
       "    </tr>\n",
       "  </tbody>\n",
       "</table>\n",
       "<p>152 rows × 2 columns</p>\n",
       "</div>"
      ],
      "text/plain": [
       "       Actual  Predicted\n",
       "604  0.349285   0.279473\n",
       "605  0.349285   0.279473\n",
       "606  0.429754   0.279473\n",
       "607  0.429754   0.279473\n",
       "608  0.429754   0.279473\n",
       "..        ...        ...\n",
       "751  0.395656   0.314651\n",
       "752  0.395656   0.314651\n",
       "753  0.403886   0.314651\n",
       "754  0.403886   0.314651\n",
       "755  0.403886   0.314651\n",
       "\n",
       "[152 rows x 2 columns]"
      ]
     },
     "execution_count": 19,
     "metadata": {},
     "output_type": "execute_result"
    }
   ],
   "source": [
    "comparison_df = pd.DataFrame({'Actual': y_test, 'Predicted': y_pred})\n",
    "# comparison_df['Percentage_Errors'] = np.abs((y_test - y_pred) / y_test) * 100\n",
    "# comparison_df['Average_percentage_Error'] = np.mean(np.abs((y_test - y_pred) / y_test) * 100)\n",
    "comparison_df"
   ]
  },
  {
   "cell_type": "markdown",
   "metadata": {},
   "source": [
    "The percentage error provides a measure of the relative accuracy of your predictions in comparison to the actual values. A lower percentage error indicates better accuracy."
   ]
  },
  {
   "cell_type": "markdown",
   "metadata": {},
   "source": [
    "Train a Model using Random Forest Regression and make predictions"
   ]
  },
  {
   "cell_type": "code",
   "execution_count": 20,
   "metadata": {},
   "outputs": [
    {
     "name": "stdout",
     "output_type": "stream",
     "text": [
      "Mean Squared Error: 0.0178\n"
     ]
    }
   ],
   "source": [
    "rf_regressor = RandomForestRegressor(n_estimators=100, random_state=42)\n",
    "rf_regressor.fit(X_train, y_train)\n",
    "\n",
    "y_pred = rf_regressor.predict(X_test)\n",
    "\n",
    "mse_rfr = mean_squared_error(y_test, y_pred)\n",
    "mse_rfr = round(mse_rfr, 4)\n",
    "print(\"Mean Squared Error:\", mse_rfr)"
   ]
  },
  {
   "cell_type": "code",
   "execution_count": 21,
   "metadata": {},
   "outputs": [
    {
     "data": {
      "text/html": [
       "<div>\n",
       "<style scoped>\n",
       "    .dataframe tbody tr th:only-of-type {\n",
       "        vertical-align: middle;\n",
       "    }\n",
       "\n",
       "    .dataframe tbody tr th {\n",
       "        vertical-align: top;\n",
       "    }\n",
       "\n",
       "    .dataframe thead th {\n",
       "        text-align: right;\n",
       "    }\n",
       "</style>\n",
       "<table border=\"1\" class=\"dataframe\">\n",
       "  <thead>\n",
       "    <tr style=\"text-align: right;\">\n",
       "      <th></th>\n",
       "      <th>Actual</th>\n",
       "      <th>Predicted</th>\n",
       "    </tr>\n",
       "  </thead>\n",
       "  <tbody>\n",
       "    <tr>\n",
       "      <th>604</th>\n",
       "      <td>0.349285</td>\n",
       "      <td>0.475916</td>\n",
       "    </tr>\n",
       "    <tr>\n",
       "      <th>605</th>\n",
       "      <td>0.349285</td>\n",
       "      <td>0.475916</td>\n",
       "    </tr>\n",
       "    <tr>\n",
       "      <th>606</th>\n",
       "      <td>0.429754</td>\n",
       "      <td>0.475916</td>\n",
       "    </tr>\n",
       "    <tr>\n",
       "      <th>607</th>\n",
       "      <td>0.429754</td>\n",
       "      <td>0.475916</td>\n",
       "    </tr>\n",
       "    <tr>\n",
       "      <th>608</th>\n",
       "      <td>0.429754</td>\n",
       "      <td>0.475916</td>\n",
       "    </tr>\n",
       "    <tr>\n",
       "      <th>...</th>\n",
       "      <td>...</td>\n",
       "      <td>...</td>\n",
       "    </tr>\n",
       "    <tr>\n",
       "      <th>751</th>\n",
       "      <td>0.395656</td>\n",
       "      <td>0.475916</td>\n",
       "    </tr>\n",
       "    <tr>\n",
       "      <th>752</th>\n",
       "      <td>0.395656</td>\n",
       "      <td>0.475916</td>\n",
       "    </tr>\n",
       "    <tr>\n",
       "      <th>753</th>\n",
       "      <td>0.403886</td>\n",
       "      <td>0.475916</td>\n",
       "    </tr>\n",
       "    <tr>\n",
       "      <th>754</th>\n",
       "      <td>0.403886</td>\n",
       "      <td>0.475916</td>\n",
       "    </tr>\n",
       "    <tr>\n",
       "      <th>755</th>\n",
       "      <td>0.403886</td>\n",
       "      <td>0.475916</td>\n",
       "    </tr>\n",
       "  </tbody>\n",
       "</table>\n",
       "<p>152 rows × 2 columns</p>\n",
       "</div>"
      ],
      "text/plain": [
       "       Actual  Predicted\n",
       "604  0.349285   0.475916\n",
       "605  0.349285   0.475916\n",
       "606  0.429754   0.475916\n",
       "607  0.429754   0.475916\n",
       "608  0.429754   0.475916\n",
       "..        ...        ...\n",
       "751  0.395656   0.475916\n",
       "752  0.395656   0.475916\n",
       "753  0.403886   0.475916\n",
       "754  0.403886   0.475916\n",
       "755  0.403886   0.475916\n",
       "\n",
       "[152 rows x 2 columns]"
      ]
     },
     "execution_count": 21,
     "metadata": {},
     "output_type": "execute_result"
    }
   ],
   "source": [
    "comparison_df = pd.DataFrame({'Actual': y_test, 'Predicted': y_pred})\n",
    "# comparison_df['Percentage_Errors'] = np.abs((y_test - y_pred) / y_test) * 100\n",
    "# comparison_df['Average_percentage_Error'] = np.mean(np.abs((y_test - y_pred) / y_test) * 100)\n",
    "comparison_df"
   ]
  },
  {
   "cell_type": "markdown",
   "metadata": {},
   "source": [
    "Train a Model using Support Vector Regression and make predictions"
   ]
  },
  {
   "cell_type": "code",
   "execution_count": 22,
   "metadata": {},
   "outputs": [
    {
     "data": {
      "text/html": [
       "<style>#sk-container-id-1 {color: black;}#sk-container-id-1 pre{padding: 0;}#sk-container-id-1 div.sk-toggleable {background-color: white;}#sk-container-id-1 label.sk-toggleable__label {cursor: pointer;display: block;width: 100%;margin-bottom: 0;padding: 0.3em;box-sizing: border-box;text-align: center;}#sk-container-id-1 label.sk-toggleable__label-arrow:before {content: \"▸\";float: left;margin-right: 0.25em;color: #696969;}#sk-container-id-1 label.sk-toggleable__label-arrow:hover:before {color: black;}#sk-container-id-1 div.sk-estimator:hover label.sk-toggleable__label-arrow:before {color: black;}#sk-container-id-1 div.sk-toggleable__content {max-height: 0;max-width: 0;overflow: hidden;text-align: left;background-color: #f0f8ff;}#sk-container-id-1 div.sk-toggleable__content pre {margin: 0.2em;color: black;border-radius: 0.25em;background-color: #f0f8ff;}#sk-container-id-1 input.sk-toggleable__control:checked~div.sk-toggleable__content {max-height: 200px;max-width: 100%;overflow: auto;}#sk-container-id-1 input.sk-toggleable__control:checked~label.sk-toggleable__label-arrow:before {content: \"▾\";}#sk-container-id-1 div.sk-estimator input.sk-toggleable__control:checked~label.sk-toggleable__label {background-color: #d4ebff;}#sk-container-id-1 div.sk-label input.sk-toggleable__control:checked~label.sk-toggleable__label {background-color: #d4ebff;}#sk-container-id-1 input.sk-hidden--visually {border: 0;clip: rect(1px 1px 1px 1px);clip: rect(1px, 1px, 1px, 1px);height: 1px;margin: -1px;overflow: hidden;padding: 0;position: absolute;width: 1px;}#sk-container-id-1 div.sk-estimator {font-family: monospace;background-color: #f0f8ff;border: 1px dotted black;border-radius: 0.25em;box-sizing: border-box;margin-bottom: 0.5em;}#sk-container-id-1 div.sk-estimator:hover {background-color: #d4ebff;}#sk-container-id-1 div.sk-parallel-item::after {content: \"\";width: 100%;border-bottom: 1px solid gray;flex-grow: 1;}#sk-container-id-1 div.sk-label:hover label.sk-toggleable__label {background-color: #d4ebff;}#sk-container-id-1 div.sk-serial::before {content: \"\";position: absolute;border-left: 1px solid gray;box-sizing: border-box;top: 0;bottom: 0;left: 50%;z-index: 0;}#sk-container-id-1 div.sk-serial {display: flex;flex-direction: column;align-items: center;background-color: white;padding-right: 0.2em;padding-left: 0.2em;position: relative;}#sk-container-id-1 div.sk-item {position: relative;z-index: 1;}#sk-container-id-1 div.sk-parallel {display: flex;align-items: stretch;justify-content: center;background-color: white;position: relative;}#sk-container-id-1 div.sk-item::before, #sk-container-id-1 div.sk-parallel-item::before {content: \"\";position: absolute;border-left: 1px solid gray;box-sizing: border-box;top: 0;bottom: 0;left: 50%;z-index: -1;}#sk-container-id-1 div.sk-parallel-item {display: flex;flex-direction: column;z-index: 1;position: relative;background-color: white;}#sk-container-id-1 div.sk-parallel-item:first-child::after {align-self: flex-end;width: 50%;}#sk-container-id-1 div.sk-parallel-item:last-child::after {align-self: flex-start;width: 50%;}#sk-container-id-1 div.sk-parallel-item:only-child::after {width: 0;}#sk-container-id-1 div.sk-dashed-wrapped {border: 1px dashed gray;margin: 0 0.4em 0.5em 0.4em;box-sizing: border-box;padding-bottom: 0.4em;background-color: white;}#sk-container-id-1 div.sk-label label {font-family: monospace;font-weight: bold;display: inline-block;line-height: 1.2em;}#sk-container-id-1 div.sk-label-container {text-align: center;}#sk-container-id-1 div.sk-container {/* jupyter's `normalize.less` sets `[hidden] { display: none; }` but bootstrap.min.css set `[hidden] { display: none !important; }` so we also need the `!important` here to be able to override the default hidden behavior on the sphinx rendered scikit-learn.org. See: https://github.com/scikit-learn/scikit-learn/issues/21755 */display: inline-block !important;position: relative;}#sk-container-id-1 div.sk-text-repr-fallback {display: none;}</style><div id=\"sk-container-id-1\" class=\"sk-top-container\"><div class=\"sk-text-repr-fallback\"><pre>SVR(kernel=&#x27;linear&#x27;)</pre><b>In a Jupyter environment, please rerun this cell to show the HTML representation or trust the notebook. <br />On GitHub, the HTML representation is unable to render, please try loading this page with nbviewer.org.</b></div><div class=\"sk-container\" hidden><div class=\"sk-item\"><div class=\"sk-estimator sk-toggleable\"><input class=\"sk-toggleable__control sk-hidden--visually\" id=\"sk-estimator-id-1\" type=\"checkbox\" checked><label for=\"sk-estimator-id-1\" class=\"sk-toggleable__label sk-toggleable__label-arrow\">SVR</label><div class=\"sk-toggleable__content\"><pre>SVR(kernel=&#x27;linear&#x27;)</pre></div></div></div></div></div>"
      ],
      "text/plain": [
       "SVR(kernel='linear')"
      ]
     },
     "execution_count": 22,
     "metadata": {},
     "output_type": "execute_result"
    }
   ],
   "source": [
    "scaler = StandardScaler()\n",
    "X_train_scaled = scaler.fit_transform(X_train)\n",
    "X_test_scaled = scaler.transform(X_test)\n",
    "\n",
    "# Initialize the SVR model\n",
    "svr_regressor = SVR(kernel='linear')\n",
    "\n",
    "# Fit the model on the training data\n",
    "svr_regressor.fit(X_train_scaled, y_train)"
   ]
  },
  {
   "cell_type": "code",
   "execution_count": 23,
   "metadata": {},
   "outputs": [
    {
     "name": "stdout",
     "output_type": "stream",
     "text": [
      "Mean Squared Error: 0.0167\n"
     ]
    }
   ],
   "source": [
    "# Make predictions on the test data\n",
    "y_pred = svr_regressor.predict(X_test_scaled)\n",
    "\n",
    "# Calculate mean squared error\n",
    "mse_svr = mean_squared_error(y_test, y_pred)\n",
    "mse_svr = round(mse_svr, 4)\n",
    "print(\"Mean Squared Error:\", mse_svr)"
   ]
  },
  {
   "cell_type": "markdown",
   "metadata": {},
   "source": [
    "Train a Model using Gradient Boosting Regression and make predictions"
   ]
  },
  {
   "cell_type": "code",
   "execution_count": 30,
   "metadata": {},
   "outputs": [
    {
     "name": "stdout",
     "output_type": "stream",
     "text": [
      "Mean Squared Error: 0.0085\n"
     ]
    }
   ],
   "source": [
    "gb_regressor = GradientBoostingRegressor(n_estimators=22, learning_rate=0.1, random_state=42)\n",
    "gb_regressor.fit(X_train, y_train)\n",
    "\n",
    "y_pred = gb_regressor.predict(X_test)\n",
    "\n",
    "mse_gbr = mean_squared_error(y_test, y_pred)\n",
    "mse_gbr = round(mse_gbr, 4)\n",
    "print(\"Mean Squared Error:\", mse_gbr)"
   ]
  },
  {
   "cell_type": "code",
   "execution_count": 31,
   "metadata": {},
   "outputs": [
    {
     "name": "stdout",
     "output_type": "stream",
     "text": [
      "                             Mean Squared Error\n",
      "Gradient Boosting Regressor              0.0085\n",
      "Support Vector Regressor                 0.0167\n",
      "Random Forest Regressor                  0.0178\n",
      "Linear Regressor                         0.0164\n"
     ]
    }
   ],
   "source": [
    "sum_dict = {'Gradient Boosting Regressor': mse_gbr,\n",
    "            'Support Vector Regressor': mse_svr,\n",
    "            'Random Forest Regressor': mse_rfr,\n",
    "            'Linear Regressor': mse_lr}\n",
    "\n",
    "result_df = pd.DataFrame.from_dict(sum_dict, \n",
    "                                   orient='index', \n",
    "                                   columns=['Mean Squared Error'])\n",
    "print(result_df)"
   ]
  },
  {
   "cell_type": "markdown",
   "metadata": {},
   "source": [
    "Summary"
   ]
  },
  {
   "cell_type": "markdown",
   "metadata": {},
   "source": [
    "Let's try to insert the sugar world price today 2023 Q1, Q2 and Q3 and see how close our prediction using the lowest regression model MSE we have."
   ]
  },
  {
   "cell_type": "code",
   "execution_count": 26,
   "metadata": {},
   "outputs": [],
   "source": [
    "# Make predictions for 2023 Q1 and Q\n",
    "new_data = [[2023],\n",
    "            [2023]]"
   ]
  },
  {
   "cell_type": "code",
   "execution_count": 36,
   "metadata": {},
   "outputs": [
    {
     "name": "stdout",
     "output_type": "stream",
     "text": [
      "Sugar Price prediction using Gradient Boosting Regressor for 2023 Q1 is 0.3829\n",
      "Sugar Price prediction using Gradient Boosting Regressor for 2023 Q1 is 0.3829\n"
     ]
    }
   ],
   "source": [
    "# Making predictions using Gradient Boosting Regressor\n",
    "yr_pred = gb_regressor.predict(new_data)\n",
    "yr_pred = yr_pred.tolist()\n",
    "q1 = yr_pred[0]\n",
    "q2 = yr_pred[1]\n",
    "q1 = round(q1, 4)\n",
    "q2 = round(q2, 4)\n",
    "\n",
    "print(f\"Sugar Price prediction using Gradient Boosting Regressor for 2023 Q1 is {q1}\")\n",
    "print(f\"Sugar Price prediction using Gradient Boosting Regressor for 2023 Q1 is {q2}\")"
   ]
  },
  {
   "cell_type": "code",
   "execution_count": 37,
   "metadata": {},
   "outputs": [
    {
     "name": "stdout",
     "output_type": "stream",
     "text": [
      "Sugar Price prediction using Support Vector Regressor for 2023 Q1 is 89.9262\n",
      "Sugar Price prediction using Support Vector Regressor for 2023 Q1 is 89.9262\n"
     ]
    }
   ],
   "source": [
    "# Making predictions using Support Vector Regressor\n",
    "yr_pred = svr_regressor.predict(new_data)\n",
    "yr_pred = yr_pred.tolist()\n",
    "q1 = yr_pred[0]\n",
    "q2 = yr_pred[1]\n",
    "q1 = round(q1, 4)\n",
    "q2 = round(q2, 4)\n",
    "\n",
    "print(f\"Sugar Price prediction using Support Vector Regressor for 2023 Q1 is {q1}\")\n",
    "print(f\"Sugar Price prediction using Support Vector Regressor for 2023 Q1 is {q2}\")"
   ]
  },
  {
   "cell_type": "code",
   "execution_count": 38,
   "metadata": {},
   "outputs": [
    {
     "name": "stdout",
     "output_type": "stream",
     "text": [
      "Sugar Price prediction using Random Forest Regressor for 2023 Q1 is 0.4759\n",
      "Sugar Price prediction using Random Forest Regressor for 2023 Q1 is 0.4759\n"
     ]
    }
   ],
   "source": [
    "# Making predictions using Random Forest Regressor\n",
    "yr_pred = rf_regressor.predict(new_data)\n",
    "yr_pred = yr_pred.tolist()\n",
    "q1 = yr_pred[0]\n",
    "q2 = yr_pred[1]\n",
    "q1 = round(q1, 4)\n",
    "q2 = round(q2, 4)\n",
    "\n",
    "print(f\"Sugar Price prediction using Random Forest Regressor for 2023 Q1 is {q1}\")\n",
    "print(f\"Sugar Price prediction using Random Forest Regressor for 2023 Q1 is {q2}\")"
   ]
  },
  {
   "cell_type": "code",
   "execution_count": 39,
   "metadata": {},
   "outputs": [
    {
     "name": "stdout",
     "output_type": "stream",
     "text": [
      "Sugar Price prediction using Random Forest Regressor for 2023 Q1 is 0.3176\n",
      "Sugar Price prediction using Random Forest Regressor for 2023 Q1 is 0.3176\n"
     ]
    }
   ],
   "source": [
    "# Making predictions using Linear Model\n",
    "yr_pred = model.predict(new_data)\n",
    "yr_pred = yr_pred.tolist()\n",
    "q1 = yr_pred[0]\n",
    "q2 = yr_pred[1]\n",
    "q1 = round(q1, 4)\n",
    "q2 = round(q2, 4)\n",
    "\n",
    "print(f\"Sugar Price prediction using Random Forest Regressor for 2023 Q1 is {q1}\")\n",
    "print(f\"Sugar Price prediction using Random Forest Regressor for 2023 Q1 is {q2}\")"
   ]
  },
  {
   "cell_type": "markdown",
   "metadata": {},
   "source": [
    "Based on the other notebook, we have the following:\\\n",
    "Mean value Q1: 20.38\\\n",
    "Mean value Q2: 24.74"
   ]
  },
  {
   "cell_type": "markdown",
   "metadata": {},
   "source": [
    "### Summary\n",
    "\n",
    "It's important to note that while the Mean Squared Error (MSE) is a useful metric for evaluating the performance of regression models, it's not the only factor to consider. The MSE measures the average squared difference between the predicted values and the actual values. A lower MSE generally indicates a better fit to the data.\n",
    "\n",
    "However, a lower MSE on the training data doesn't guarantee that the model will perform well on new, unseen data. There could be various reasons why a model with a lower MSE might still produce larger errors against actual values:\n",
    "\n",
    "* Overfitting: A model with a low MSE on the training data might be overfitting to noise in the data, capturing random fluctuations that don't generalize well to new data.\n",
    "\n",
    "* Bias-Variance Trade-off: Some models, like the Gradient Boosting Regressor, tend to have lower bias but can sometimes have higher variance, leading to larger errors on new data.\n",
    "\n",
    "* Model Assumptions: Each regression model makes certain assumptions about the data distribution and relationships. If these assumptions are not met, the model might perform poorly even with a low MSE.\n",
    "\n",
    "* Hyperparameters: Model performance can be sensitive to hyperparameter settings. Suboptimal hyperparameter choices can lead to poor generalization.\n",
    "\n",
    "* Feature Engineering: The quality and relevance of the features used for prediction play a significant role in model performance.\n",
    "\n",
    "* Outliers and Noise: Unseen data may contain outliers or noise that the model didn't encounter during training.\n",
    "\n",
    "It's important to consider these factors when interpreting the results. While a lower MSE is generally a good indicator, it's always recommended to evaluate models using multiple metrics, cross-validation, and possibly other evaluation techniques to ensure that the model generalizes well to new data."
   ]
  }
 ],
 "metadata": {
  "kernelspec": {
   "display_name": ".venv",
   "language": "python",
   "name": "python3"
  },
  "language_info": {
   "codemirror_mode": {
    "name": "ipython",
    "version": 3
   },
   "file_extension": ".py",
   "mimetype": "text/x-python",
   "name": "python",
   "nbconvert_exporter": "python",
   "pygments_lexer": "ipython3",
   "version": "3.10.12"
  },
  "orig_nbformat": 4
 },
 "nbformat": 4,
 "nbformat_minor": 2
}
