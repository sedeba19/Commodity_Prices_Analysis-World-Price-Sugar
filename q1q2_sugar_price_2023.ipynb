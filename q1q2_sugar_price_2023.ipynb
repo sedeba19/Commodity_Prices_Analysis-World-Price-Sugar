{
 "cells": [
  {
   "cell_type": "markdown",
   "metadata": {},
   "source": [
    "Data source is from: https://www.isosugar.org/prices.php?pricerange=2023-07-01"
   ]
  },
  {
   "cell_type": "code",
   "execution_count": 1,
   "metadata": {},
   "outputs": [],
   "source": [
    "import pandas as pd\n",
    "from statistics import mean"
   ]
  },
  {
   "cell_type": "code",
   "execution_count": 2,
   "metadata": {},
   "outputs": [],
   "source": [
    "feb_dir = r'./Data/feb2023.csv'\n",
    "mar_dir = r'./Data/mar2023.csv'\n",
    "apr_dir = r'./Data/apr2023.csv'\n",
    "may_dir = r'./Data/may2023.csv'\n",
    "jun_dir = r'./Data/jun2023.csv'\n",
    "jul_dir = r'./Data/july2023.csv'"
   ]
  },
  {
   "cell_type": "code",
   "execution_count": 3,
   "metadata": {},
   "outputs": [],
   "source": [
    "feb_df = pd.read_csv(feb_dir)\n",
    "mar_df = pd.read_csv(mar_dir)\n",
    "apr_df = pd.read_csv(apr_dir)\n",
    "may_df = pd.read_csv(may_dir)\n",
    "jun_df = pd.read_csv(jun_dir)\n",
    "jul_df = pd.read_csv(jul_dir)"
   ]
  },
  {
   "cell_type": "code",
   "execution_count": 4,
   "metadata": {},
   "outputs": [],
   "source": [
    "feb_mar_df = pd.concat([feb_df, mar_df], ignore_index=True)"
   ]
  },
  {
   "cell_type": "code",
   "execution_count": 5,
   "metadata": {},
   "outputs": [],
   "source": [
    "def split(df, x):\n",
    "    split_row = df.loc[x, 'ISA Daily Price *'].split()\n",
    "    value = split_row[0]\n",
    "    unit = split_row[1]\n",
    "    extra = split_row[2] if len(split_row) > 2 else None\n",
    "    return value, unit, extra\n"
   ]
  },
  {
   "cell_type": "code",
   "execution_count": 6,
   "metadata": {},
   "outputs": [
    {
     "data": {
      "text/html": [
       "<div>\n",
       "<style scoped>\n",
       "    .dataframe tbody tr th:only-of-type {\n",
       "        vertical-align: middle;\n",
       "    }\n",
       "\n",
       "    .dataframe tbody tr th {\n",
       "        vertical-align: top;\n",
       "    }\n",
       "\n",
       "    .dataframe thead th {\n",
       "        text-align: right;\n",
       "    }\n",
       "</style>\n",
       "<table border=\"1\" class=\"dataframe\">\n",
       "  <thead>\n",
       "    <tr style=\"text-align: right;\">\n",
       "      <th></th>\n",
       "      <th>Date</th>\n",
       "      <th>ISA Daily Price *</th>\n",
       "      <th>15 Day Average</th>\n",
       "      <th>Price Index **</th>\n",
       "      <th>cts/lb Index **</th>\n",
       "      <th>value</th>\n",
       "      <th>unit</th>\n",
       "      <th>extra</th>\n",
       "    </tr>\n",
       "  </thead>\n",
       "  <tbody>\n",
       "    <tr>\n",
       "      <th>0</th>\n",
       "      <td>28 Feb 2023</td>\n",
       "      <td>20.58 cts/lb</td>\n",
       "      <td>20.27 cts/lb</td>\n",
       "      <td>556.20 $/T</td>\n",
       "      <td>25.23 cts/lb</td>\n",
       "      <td>20.58</td>\n",
       "      <td>cts/lb</td>\n",
       "      <td>None</td>\n",
       "    </tr>\n",
       "    <tr>\n",
       "      <th>1</th>\n",
       "      <td>27 Feb 2023</td>\n",
       "      <td>20.70 cts/lb</td>\n",
       "      <td>20.22 cts/lb</td>\n",
       "      <td>563.40 $/T</td>\n",
       "      <td>25.56 cts/lb</td>\n",
       "      <td>20.70</td>\n",
       "      <td>cts/lb</td>\n",
       "      <td>None</td>\n",
       "    </tr>\n",
       "    <tr>\n",
       "      <th>2</th>\n",
       "      <td>24 Feb 2023</td>\n",
       "      <td>20.06 cts/lb</td>\n",
       "      <td>20.15 cts/lb</td>\n",
       "      <td>554.70 $/T</td>\n",
       "      <td>25.16 cts/lb</td>\n",
       "      <td>20.06</td>\n",
       "      <td>cts/lb</td>\n",
       "      <td>None</td>\n",
       "    </tr>\n",
       "    <tr>\n",
       "      <th>3</th>\n",
       "      <td>23 Feb 2023</td>\n",
       "      <td>20.58 cts/lb</td>\n",
       "      <td>20.16 cts/lb</td>\n",
       "      <td>566.70 $/T</td>\n",
       "      <td>25.71 cts/lb</td>\n",
       "      <td>20.58</td>\n",
       "      <td>cts/lb</td>\n",
       "      <td>None</td>\n",
       "    </tr>\n",
       "    <tr>\n",
       "      <th>4</th>\n",
       "      <td>22 Feb 2023</td>\n",
       "      <td>20.21 cts/lb</td>\n",
       "      <td>20.16 cts/lb</td>\n",
       "      <td>559.05 $/T</td>\n",
       "      <td>25.36 cts/lb</td>\n",
       "      <td>20.21</td>\n",
       "      <td>cts/lb</td>\n",
       "      <td>None</td>\n",
       "    </tr>\n",
       "  </tbody>\n",
       "</table>\n",
       "</div>"
      ],
      "text/plain": [
       "          Date ISA Daily Price * 15 Day Average Price Index **  \\\n",
       "0  28 Feb 2023      20.58 cts/lb   20.27 cts/lb     556.20 $/T   \n",
       "1  27 Feb 2023      20.70 cts/lb   20.22 cts/lb     563.40 $/T   \n",
       "2  24 Feb 2023      20.06 cts/lb   20.15 cts/lb     554.70 $/T   \n",
       "3  23 Feb 2023      20.58 cts/lb   20.16 cts/lb     566.70 $/T   \n",
       "4  22 Feb 2023      20.21 cts/lb   20.16 cts/lb     559.05 $/T   \n",
       "\n",
       "  cts/lb Index **  value    unit extra  \n",
       "0    25.23 cts/lb  20.58  cts/lb  None  \n",
       "1    25.56 cts/lb  20.70  cts/lb  None  \n",
       "2    25.16 cts/lb  20.06  cts/lb  None  \n",
       "3    25.71 cts/lb  20.58  cts/lb  None  \n",
       "4    25.36 cts/lb  20.21  cts/lb  None  "
      ]
     },
     "execution_count": 6,
     "metadata": {},
     "output_type": "execute_result"
    }
   ],
   "source": [
    "value_lst = []\n",
    "unit_lst = []\n",
    "extra_lst = []\n",
    "\n",
    "for i in range(len(feb_mar_df)):\n",
    "    value, unit, extra = split(df=feb_mar_df, x=i)\n",
    "    value_lst.append(value)\n",
    "    unit_lst.append(unit)\n",
    "    extra_lst.append(extra)\n",
    "\n",
    "feb_mar_df['value'] = value_lst\n",
    "feb_mar_df['unit'] = unit_lst\n",
    "feb_mar_df['extra'] = extra_lst\n",
    "feb_mar_df.head()"
   ]
  },
  {
   "cell_type": "code",
   "execution_count": 7,
   "metadata": {},
   "outputs": [
    {
     "data": {
      "text/plain": [
       "Index(['Date', 'ISA Daily Price *', '15 Day Average', 'Price Index **',\n",
       "       'cts/lb Index **', 'value', 'unit', 'extra'],\n",
       "      dtype='object')"
      ]
     },
     "execution_count": 7,
     "metadata": {},
     "output_type": "execute_result"
    }
   ],
   "source": [
    "feb_mar_df.columns"
   ]
  },
  {
   "cell_type": "code",
   "execution_count": 8,
   "metadata": {},
   "outputs": [
    {
     "name": "stdout",
     "output_type": "stream",
     "text": [
      "Mean value Q1: 20.38\n"
     ]
    }
   ],
   "source": [
    "# Compute for Q1 Sugar Price 2023\n",
    "feb_mar_df['value'] = pd.to_numeric(feb_mar_df['value'], errors='coerce')\n",
    "mean_value_q1 = feb_mar_df['value'].mean()\n",
    "mean_value_q1 = round(mean_value_q1, 2)\n",
    "print(f\"Mean value Q1: {mean_value_q1}\")\n"
   ]
  },
  {
   "cell_type": "code",
   "execution_count": 9,
   "metadata": {},
   "outputs": [
    {
     "data": {
      "text/html": [
       "<div>\n",
       "<style scoped>\n",
       "    .dataframe tbody tr th:only-of-type {\n",
       "        vertical-align: middle;\n",
       "    }\n",
       "\n",
       "    .dataframe tbody tr th {\n",
       "        vertical-align: top;\n",
       "    }\n",
       "\n",
       "    .dataframe thead th {\n",
       "        text-align: right;\n",
       "    }\n",
       "</style>\n",
       "<table border=\"1\" class=\"dataframe\">\n",
       "  <thead>\n",
       "    <tr style=\"text-align: right;\">\n",
       "      <th></th>\n",
       "      <th>Date</th>\n",
       "      <th>ISA Daily Price *</th>\n",
       "      <th>15 Day Average</th>\n",
       "      <th>Price Index **</th>\n",
       "      <th>cts/lb Index **</th>\n",
       "      <th>value</th>\n",
       "      <th>unit</th>\n",
       "      <th>extra</th>\n",
       "    </tr>\n",
       "  </thead>\n",
       "  <tbody>\n",
       "    <tr>\n",
       "      <th>0</th>\n",
       "      <td>28 Apr 2023</td>\n",
       "      <td>26.45 cts/lb</td>\n",
       "      <td>24.59 cts/lb</td>\n",
       "      <td>706.65 $/T</td>\n",
       "      <td>32.05 cts/lb</td>\n",
       "      <td>26.45</td>\n",
       "      <td>cts/lb</td>\n",
       "      <td>None</td>\n",
       "    </tr>\n",
       "    <tr>\n",
       "      <th>1</th>\n",
       "      <td>27 Apr 2023</td>\n",
       "      <td>26.45 cts/lb</td>\n",
       "      <td>24.37 cts/lb</td>\n",
       "      <td>713.35 $/T</td>\n",
       "      <td>32.36 cts/lb</td>\n",
       "      <td>26.45</td>\n",
       "      <td>cts/lb</td>\n",
       "      <td>None</td>\n",
       "    </tr>\n",
       "    <tr>\n",
       "      <th>2</th>\n",
       "      <td>26 Apr 2023</td>\n",
       "      <td>25.90 cts/lb</td>\n",
       "      <td>24.11 cts/lb</td>\n",
       "      <td>690.15 $/T</td>\n",
       "      <td>31.30 cts/lb</td>\n",
       "      <td>25.90</td>\n",
       "      <td>cts/lb</td>\n",
       "      <td>None</td>\n",
       "    </tr>\n",
       "    <tr>\n",
       "      <th>3</th>\n",
       "      <td>25 Apr 2023</td>\n",
       "      <td>26.06 cts/lb</td>\n",
       "      <td>23.86 cts/lb</td>\n",
       "      <td>698.80 $/T</td>\n",
       "      <td>31.70 cts/lb</td>\n",
       "      <td>26.06</td>\n",
       "      <td>cts/lb</td>\n",
       "      <td>None</td>\n",
       "    </tr>\n",
       "    <tr>\n",
       "      <th>4</th>\n",
       "      <td>24 Apr 2023</td>\n",
       "      <td>25.39 cts/lb</td>\n",
       "      <td>23.59 cts/lb</td>\n",
       "      <td>684.10 $/T</td>\n",
       "      <td>31.03 cts/lb</td>\n",
       "      <td>25.39</td>\n",
       "      <td>cts/lb</td>\n",
       "      <td>None</td>\n",
       "    </tr>\n",
       "  </tbody>\n",
       "</table>\n",
       "</div>"
      ],
      "text/plain": [
       "          Date ISA Daily Price * 15 Day Average Price Index **  \\\n",
       "0  28 Apr 2023      26.45 cts/lb   24.59 cts/lb     706.65 $/T   \n",
       "1  27 Apr 2023      26.45 cts/lb   24.37 cts/lb     713.35 $/T   \n",
       "2  26 Apr 2023      25.90 cts/lb   24.11 cts/lb     690.15 $/T   \n",
       "3  25 Apr 2023      26.06 cts/lb   23.86 cts/lb     698.80 $/T   \n",
       "4  24 Apr 2023      25.39 cts/lb   23.59 cts/lb     684.10 $/T   \n",
       "\n",
       "  cts/lb Index **  value    unit extra  \n",
       "0    32.05 cts/lb  26.45  cts/lb  None  \n",
       "1    32.36 cts/lb  26.45  cts/lb  None  \n",
       "2    31.30 cts/lb  25.90  cts/lb  None  \n",
       "3    31.70 cts/lb  26.06  cts/lb  None  \n",
       "4    31.03 cts/lb  25.39  cts/lb  None  "
      ]
     },
     "execution_count": 9,
     "metadata": {},
     "output_type": "execute_result"
    }
   ],
   "source": [
    "apr_may_jun_df = pd.concat([apr_df, may_df, jun_df], ignore_index=True)\n",
    "\n",
    "value_lst = []\n",
    "unit_lst = []\n",
    "extra_lst = []\n",
    "\n",
    "for i in range(len(apr_may_jun_df)):\n",
    "    value, unit, extra = split(df=apr_may_jun_df, x=i)\n",
    "    value_lst.append(value)\n",
    "    unit_lst.append(unit)\n",
    "    extra_lst.append(extra)\n",
    "\n",
    "apr_may_jun_df['value'] = value_lst\n",
    "apr_may_jun_df['unit'] = unit_lst\n",
    "apr_may_jun_df['extra'] = extra_lst\n",
    "apr_may_jun_df.head()\n"
   ]
  },
  {
   "cell_type": "code",
   "execution_count": 10,
   "metadata": {},
   "outputs": [
    {
     "name": "stdout",
     "output_type": "stream",
     "text": [
      "Mean value Q2: 24.74\n"
     ]
    }
   ],
   "source": [
    "# Compute for Q2 Sugar Price 2023\n",
    "apr_may_jun_df['value'] = pd.to_numeric(apr_may_jun_df['value'], errors='coerce')\n",
    "mean_value_q2= apr_may_jun_df['value'].mean()\n",
    "mean_value_q2 = round(mean_value_q2, 2)\n",
    "print(f\"Mean value Q2: {mean_value_q2}\")"
   ]
  },
  {
   "cell_type": "code",
   "execution_count": 11,
   "metadata": {},
   "outputs": [
    {
     "name": "stdout",
     "output_type": "stream",
     "text": [
      "Mean value Q1: 20.38\n",
      "Mean value Q2: 24.74\n"
     ]
    }
   ],
   "source": [
    "# Summary\n",
    "print(f\"Mean value Q1: {mean_value_q1}\")\n",
    "print(f\"Mean value Q2: {mean_value_q2}\")"
   ]
  }
 ],
 "metadata": {
  "kernelspec": {
   "display_name": ".venv",
   "language": "python",
   "name": "python3"
  },
  "language_info": {
   "codemirror_mode": {
    "name": "ipython",
    "version": 3
   },
   "file_extension": ".py",
   "mimetype": "text/x-python",
   "name": "python",
   "nbconvert_exporter": "python",
   "pygments_lexer": "ipython3",
   "version": "3.10.12"
  },
  "orig_nbformat": 4
 },
 "nbformat": 4,
 "nbformat_minor": 2
}
